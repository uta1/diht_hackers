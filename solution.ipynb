{
 "cells": [
  {
   "cell_type": "code",
   "execution_count": 37,
   "metadata": {
    "ExecuteTime": {
     "end_time": "2020-04-25T10:29:48.490018Z",
     "start_time": "2020-04-25T10:29:48.482858Z"
    }
   },
   "outputs": [],
   "source": [
    "import numpy as np\n",
    "import pandas as pd\n",
    "import matplotlib.pyplot as plt\n",
    "from datetime import datetime\n",
    "\n",
    "from tqdm import tqdm_notebook\n",
    "from math import sin, cos, sqrt, atan2, radians\n",
    "from polyline.codec import PolylineCodec\n",
    "\n",
    "from sklearn.preprocessing import OneHotEncoder\n",
    "\n",
    "# approximate radius of earth in km\n",
    "R = 6373.0"
   ]
  },
  {
   "cell_type": "code",
   "execution_count": 38,
   "metadata": {},
   "outputs": [],
   "source": [
    "def mape(y_true, y_pred):\n",
    "    return np.mean(np.abs(y_true - y_pred)/y_true) * 100"
   ]
  },
  {
   "cell_type": "markdown",
   "metadata": {},
   "source": [
    "Id\n",
    "\n",
    "main_id_locality – Идентификатор города  \n",
    "ETA – Ожидаемое время поездки  \n",
    "OrderedDate – Время заказа  \n",
    "latitude – Широта старта заказа  \n",
    "del_latitude – Широта конца заказа  \n",
    "longitude – Долгота старта заказа  \n",
    "del_longitude – Долгота конца заказа  \n",
    "EDA – Ожидаемая дистанция заказа   \n",
    "center_latitude – Широта центра города  \n",
    "center_longitude – Долгота центра города  \n",
    "route – расчетный трек  \n",
    "\n",
    "\n",
    "RTA – Реальное время поездки / Требуется предсказать  \n",
    "\n",
    "track – фактический трек / Нет на момент создания заказа \n",
    "\n",
    "RDA – Фактическая дистанция заказа / Нет на момент создания заказа  \n",
    "ReadyForCollection – Время события \"Подъехал\" / Нет на момент создания заказа  \n",
    "ClientCollected – Время события \"В пути\" / Нет на момент создания заказа  \n",
    "GoodArrived – Время события \"Прибыл\" / Нет на момент создания заказа  \n",
    "ready_latitude – Широта события \"Подъехал\" / Нет на момент создания заказа  \n",
    "ready_longitude – Долгота события \"Подъехал\" / Нет на момент создания заказа  \n",
    "onway_latitude – Широта события \"В пути\" / Нет на момент создания заказа  \n",
    "onway_longitude – Долгота события \"В пути\" / Нет на момент создания заказа  \n",
    "arrived_latitude – Широта события \"Прибыл\" / Нет на момент создания заказа   \n",
    "arrived_longitude – Долгота события \"Прибыл\" / Нет на момент создания заказа "
   ]
  },
  {
   "cell_type": "code",
   "execution_count": 133,
   "metadata": {
    "ExecuteTime": {
     "end_time": "2020-04-25T11:08:59.563356Z",
     "start_time": "2020-04-25T11:08:52.192339Z"
    }
   },
   "outputs": [],
   "source": [
    "train = pd.read_csv('data/train.csv', index_col=0)\n",
    "validation = pd.read_csv('data/validation.csv', index_col=0)\n",
    "X_test = pd.read_csv('data/test.csv', index_col=0)"
   ]
  },
  {
   "cell_type": "code",
   "execution_count": 134,
   "metadata": {},
   "outputs": [
    {
     "data": {
      "text/plain": [
       "Index(['main_id_locality', 'ETA', 'RTA', 'OrderedDate', 'latitude',\n",
       "       'del_latitude', 'longitude', 'del_longitude', 'EDA', 'RDA',\n",
       "       'ReadyForCollection', 'ClientCollected', 'GoodArrived',\n",
       "       'ready_latitude', 'ready_longitude', 'onway_latitude',\n",
       "       'onway_longitude', 'arrived_latitude', 'arrived_longitude',\n",
       "       'center_latitude', 'center_longitude', 'route', 'track'],\n",
       "      dtype='object')"
      ]
     },
     "execution_count": 134,
     "metadata": {},
     "output_type": "execute_result"
    }
   ],
   "source": [
    "train.columns"
   ]
  },
  {
   "cell_type": "code",
   "execution_count": 135,
   "metadata": {},
   "outputs": [],
   "source": [
    "def clean_d(data):\n",
    "    #data = data.dropna()\n",
    "    sub = data['RDA']-data['EDA']\n",
    "    q1 = sub.quantile(0.05)\n",
    "    q2 = sub.quantile(0.95)\n",
    "    data = data[((sub < q2) & (sub > q1))]\n",
    "    \n",
    "    test_col = list(X_test.columns)\n",
    "    test_col.append('RTA')\n",
    "    data = data[test_col]\n",
    "    return data"
   ]
  },
  {
   "cell_type": "code",
   "execution_count": 136,
   "metadata": {},
   "outputs": [],
   "source": [
    "train = clean_d(train)"
   ]
  },
  {
   "cell_type": "code",
   "execution_count": 137,
   "metadata": {},
   "outputs": [
    {
     "data": {
      "text/plain": [
       "(674104, 23)"
      ]
     },
     "execution_count": 137,
     "metadata": {},
     "output_type": "execute_result"
    }
   ],
   "source": [
    "train.shape"
   ]
  },
  {
   "cell_type": "code",
   "execution_count": 138,
   "metadata": {},
   "outputs": [
    {
     "data": {
      "text/plain": [
       "Index(['main_id_locality', 'ETA', 'RTA', 'OrderedDate', 'latitude',\n",
       "       'del_latitude', 'longitude', 'del_longitude', 'EDA', 'RDA',\n",
       "       'ReadyForCollection', 'ClientCollected', 'GoodArrived',\n",
       "       'ready_latitude', 'ready_longitude', 'onway_latitude',\n",
       "       'onway_longitude', 'arrived_latitude', 'arrived_longitude',\n",
       "       'center_latitude', 'center_longitude', 'route', 'track'],\n",
       "      dtype='object')"
      ]
     },
     "execution_count": 138,
     "metadata": {},
     "output_type": "execute_result"
    }
   ],
   "source": [
    "train.columns"
   ]
  },
  {
   "cell_type": "code",
   "execution_count": 139,
   "metadata": {
    "ExecuteTime": {
     "end_time": "2020-04-25T09:23:16.840544Z",
     "start_time": "2020-04-25T09:23:15.834787Z"
    }
   },
   "outputs": [],
   "source": [
    "X_val, y_val = validation.drop(columns='RTA'), validation['RTA']\n",
    "X_train, y_train = train.drop(columns='RTA'), train['RTA']"
   ]
  },
  {
   "cell_type": "code",
   "execution_count": 140,
   "metadata": {},
   "outputs": [],
   "source": [
    "X_train = X_train[X_test.columns]\n",
    "X_val = X_val[X_test.columns]"
   ]
  },
  {
   "cell_type": "code",
   "execution_count": 141,
   "metadata": {
    "ExecuteTime": {
     "end_time": "2020-04-25T08:05:37.674150Z",
     "start_time": "2020-04-25T08:05:37.624376Z"
    }
   },
   "outputs": [
    {
     "data": {
      "text/html": [
       "<div>\n",
       "<style scoped>\n",
       "    .dataframe tbody tr th:only-of-type {\n",
       "        vertical-align: middle;\n",
       "    }\n",
       "\n",
       "    .dataframe tbody tr th {\n",
       "        vertical-align: top;\n",
       "    }\n",
       "\n",
       "    .dataframe thead th {\n",
       "        text-align: right;\n",
       "    }\n",
       "</style>\n",
       "<table border=\"1\" class=\"dataframe\">\n",
       "  <thead>\n",
       "    <tr style=\"text-align: right;\">\n",
       "      <th></th>\n",
       "      <th>main_id_locality</th>\n",
       "      <th>ETA</th>\n",
       "      <th>OrderedDate</th>\n",
       "      <th>latitude</th>\n",
       "      <th>del_latitude</th>\n",
       "      <th>longitude</th>\n",
       "      <th>del_longitude</th>\n",
       "      <th>EDA</th>\n",
       "      <th>RDA</th>\n",
       "      <th>ReadyForCollection</th>\n",
       "      <th>...</th>\n",
       "      <th>ready_latitude</th>\n",
       "      <th>ready_longitude</th>\n",
       "      <th>onway_latitude</th>\n",
       "      <th>onway_longitude</th>\n",
       "      <th>arrived_latitude</th>\n",
       "      <th>arrived_longitude</th>\n",
       "      <th>center_latitude</th>\n",
       "      <th>center_longitude</th>\n",
       "      <th>route</th>\n",
       "      <th>track</th>\n",
       "    </tr>\n",
       "    <tr>\n",
       "      <th>Id</th>\n",
       "      <th></th>\n",
       "      <th></th>\n",
       "      <th></th>\n",
       "      <th></th>\n",
       "      <th></th>\n",
       "      <th></th>\n",
       "      <th></th>\n",
       "      <th></th>\n",
       "      <th></th>\n",
       "      <th></th>\n",
       "      <th></th>\n",
       "      <th></th>\n",
       "      <th></th>\n",
       "      <th></th>\n",
       "      <th></th>\n",
       "      <th></th>\n",
       "      <th></th>\n",
       "      <th></th>\n",
       "      <th></th>\n",
       "      <th></th>\n",
       "      <th></th>\n",
       "    </tr>\n",
       "  </thead>\n",
       "  <tbody>\n",
       "    <tr>\n",
       "      <th>0</th>\n",
       "      <td>1078</td>\n",
       "      <td>226.0</td>\n",
       "      <td>2020-02-12 19:12:06</td>\n",
       "      <td>55.826019</td>\n",
       "      <td>55.825581</td>\n",
       "      <td>49.134529</td>\n",
       "      <td>49.126949</td>\n",
       "      <td>1.0</td>\n",
       "      <td>1.0</td>\n",
       "      <td>2020-02-12 19:14:33</td>\n",
       "      <td>...</td>\n",
       "      <td>55.825647</td>\n",
       "      <td>49.134115</td>\n",
       "      <td>55.826261</td>\n",
       "      <td>49.134137</td>\n",
       "      <td>55.825707</td>\n",
       "      <td>49.127136</td>\n",
       "      <td>55.794388</td>\n",
       "      <td>49.111531</td>\n",
       "      <td>gnvsIaq{jHChA??uC???OPG^F^NRzKBd@AN[r@???`@`@`...</td>\n",
       "      <td>io{jHkivsID_A??A}@i@m@I]^SFKBK@AD@@????A?@??A@...</td>\n",
       "    </tr>\n",
       "    <tr>\n",
       "      <th>2</th>\n",
       "      <td>1078</td>\n",
       "      <td>612.0</td>\n",
       "      <td>2020-02-12 19:12:44</td>\n",
       "      <td>55.791050</td>\n",
       "      <td>55.819962</td>\n",
       "      <td>49.226070</td>\n",
       "      <td>49.176628</td>\n",
       "      <td>5.0</td>\n",
       "      <td>5.0</td>\n",
       "      <td>2020-02-12 19:15:21</td>\n",
       "      <td>...</td>\n",
       "      <td>55.791099</td>\n",
       "      <td>49.226066</td>\n",
       "      <td>55.791099</td>\n",
       "      <td>49.226066</td>\n",
       "      <td>55.819765</td>\n",
       "      <td>49.177432</td>\n",
       "      <td>55.794388</td>\n",
       "      <td>49.111531</td>\n",
       "      <td>auosI}mmkH?LHd@KhC??o@w@[g@m@iAUk@??{G|OiB`Ek@...</td>\n",
       "      <td>}mmkHkuosI????????????????????????????????K?O@...</td>\n",
       "    </tr>\n",
       "    <tr>\n",
       "      <th>7</th>\n",
       "      <td>1078</td>\n",
       "      <td>1229.0</td>\n",
       "      <td>2020-02-12 19:12:56</td>\n",
       "      <td>55.835281</td>\n",
       "      <td>55.751598</td>\n",
       "      <td>49.132278</td>\n",
       "      <td>49.180080</td>\n",
       "      <td>12.0</td>\n",
       "      <td>12.0</td>\n",
       "      <td>2020-02-12 19:18:25</td>\n",
       "      <td>...</td>\n",
       "      <td>55.835314</td>\n",
       "      <td>49.131138</td>\n",
       "      <td>55.835239</td>\n",
       "      <td>49.131444</td>\n",
       "      <td>55.752243</td>\n",
       "      <td>49.180174</td>\n",
       "      <td>55.794388</td>\n",
       "      <td>49.111531</td>\n",
       "      <td>qixsI_d{jHRIbCDj@C??Cc@?w@Es@??jJK|BF~@???Pi@L...</td>\n",
       "      <td>o~zjHkixsI?B?@?@?????????????C@C@?????CLIP?B?@...</td>\n",
       "    </tr>\n",
       "    <tr>\n",
       "      <th>8</th>\n",
       "      <td>1078</td>\n",
       "      <td>541.0</td>\n",
       "      <td>2020-02-12 19:13:07</td>\n",
       "      <td>55.755779</td>\n",
       "      <td>55.772110</td>\n",
       "      <td>49.227730</td>\n",
       "      <td>49.228371</td>\n",
       "      <td>2.0</td>\n",
       "      <td>2.0</td>\n",
       "      <td>2020-02-12 19:17:20</td>\n",
       "      <td>...</td>\n",
       "      <td>55.756178</td>\n",
       "      <td>49.228142</td>\n",
       "      <td>55.756235</td>\n",
       "      <td>49.227353</td>\n",
       "      <td>55.771960</td>\n",
       "      <td>49.229215</td>\n",
       "      <td>55.794388</td>\n",
       "      <td>49.111531</td>\n",
       "      <td>sxhsIixmkH?KWe@???gA??gIP??C_ISaH??qDEiC?aFMaE...</td>\n",
       "      <td>etmkHiyhsI?A@M?S?Sk@SS@G@B?H@@BG????A????A???@...</td>\n",
       "    </tr>\n",
       "    <tr>\n",
       "      <th>9</th>\n",
       "      <td>1078</td>\n",
       "      <td>1234.0</td>\n",
       "      <td>2020-02-12 19:13:09</td>\n",
       "      <td>55.818020</td>\n",
       "      <td>55.802101</td>\n",
       "      <td>49.081909</td>\n",
       "      <td>49.200531</td>\n",
       "      <td>10.0</td>\n",
       "      <td>10.0</td>\n",
       "      <td>2020-02-12 19:20:14</td>\n",
       "      <td>...</td>\n",
       "      <td>55.818455</td>\n",
       "      <td>49.081742</td>\n",
       "      <td>55.818193</td>\n",
       "      <td>49.081961</td>\n",
       "      <td>55.802402</td>\n",
       "      <td>49.200245</td>\n",
       "      <td>55.794388</td>\n",
       "      <td>49.111531</td>\n",
       "      <td>m~tsIwhqjHQ]??MXkAtA??cBwFyAwFuAoE??gEtFyCnD{E...</td>\n",
       "      <td>ciqjHs~tsICACAKADENILIVOLMTMDGDIAG]MSGa@K[IOEY...</td>\n",
       "    </tr>\n",
       "    <tr>\n",
       "      <th>...</th>\n",
       "      <td>...</td>\n",
       "      <td>...</td>\n",
       "      <td>...</td>\n",
       "      <td>...</td>\n",
       "      <td>...</td>\n",
       "      <td>...</td>\n",
       "      <td>...</td>\n",
       "      <td>...</td>\n",
       "      <td>...</td>\n",
       "      <td>...</td>\n",
       "      <td>...</td>\n",
       "      <td>...</td>\n",
       "      <td>...</td>\n",
       "      <td>...</td>\n",
       "      <td>...</td>\n",
       "      <td>...</td>\n",
       "      <td>...</td>\n",
       "      <td>...</td>\n",
       "      <td>...</td>\n",
       "      <td>...</td>\n",
       "      <td>...</td>\n",
       "    </tr>\n",
       "    <tr>\n",
       "      <th>131</th>\n",
       "      <td>1078</td>\n",
       "      <td>772.0</td>\n",
       "      <td>2020-02-19 00:13:14</td>\n",
       "      <td>55.832642</td>\n",
       "      <td>55.870789</td>\n",
       "      <td>49.090900</td>\n",
       "      <td>49.061810</td>\n",
       "      <td>6.0</td>\n",
       "      <td>6.0</td>\n",
       "      <td>2020-02-19 00:20:30</td>\n",
       "      <td>...</td>\n",
       "      <td>55.832750</td>\n",
       "      <td>49.090999</td>\n",
       "      <td>55.832740</td>\n",
       "      <td>49.091024</td>\n",
       "      <td>55.870680</td>\n",
       "      <td>49.061900</td>\n",
       "      <td>55.794388</td>\n",
       "      <td>49.111531</td>\n",
       "      <td>_ywsIu`sjHaKfEc@R??aA^wDfAuIvC}JzCkH`CsFnBYLcC...</td>\n",
       "      <td>{asjHuywsI?@A???????????JGZ]b@m@X{@Rg@Pc@L]LYH...</td>\n",
       "    </tr>\n",
       "    <tr>\n",
       "      <th>132</th>\n",
       "      <td>1078</td>\n",
       "      <td>501.0</td>\n",
       "      <td>2020-02-19 00:13:31</td>\n",
       "      <td>55.743568</td>\n",
       "      <td>55.751530</td>\n",
       "      <td>49.203800</td>\n",
       "      <td>49.242031</td>\n",
       "      <td>4.0</td>\n",
       "      <td>4.0</td>\n",
       "      <td>2020-02-19 00:20:17</td>\n",
       "      <td>...</td>\n",
       "      <td>55.743595</td>\n",
       "      <td>49.203906</td>\n",
       "      <td>55.743595</td>\n",
       "      <td>49.203906</td>\n",
       "      <td>55.751563</td>\n",
       "      <td>49.241880</td>\n",
       "      <td>55.794388</td>\n",
       "      <td>49.111531</td>\n",
       "      <td>ilfsIwbikHr@vB??mHrN]~@WlA??KYsCkGy@_BkFmLwEyK...</td>\n",
       "      <td>kcikHmlfsI?@?????????????????????????@????????...</td>\n",
       "    </tr>\n",
       "    <tr>\n",
       "      <th>133</th>\n",
       "      <td>1078</td>\n",
       "      <td>826.0</td>\n",
       "      <td>2020-02-19 00:15:42</td>\n",
       "      <td>55.860851</td>\n",
       "      <td>55.835560</td>\n",
       "      <td>49.098881</td>\n",
       "      <td>49.151958</td>\n",
       "      <td>7.0</td>\n",
       "      <td>6.0</td>\n",
       "      <td>2020-02-19 00:21:13</td>\n",
       "      <td>...</td>\n",
       "      <td>55.860649</td>\n",
       "      <td>49.099116</td>\n",
       "      <td>55.860618</td>\n",
       "      <td>49.099114</td>\n",
       "      <td>55.835102</td>\n",
       "      <td>49.152699</td>\n",
       "      <td>55.794388</td>\n",
       "      <td>49.111531</td>\n",
       "      <td>qi}sIettjH\\UhACp@P\\P??^}E`AqJTiAV_AFY??zA`B~Hn...</td>\n",
       "      <td>_ttjHak}sI]DMD?FHNFJ@N?N@HDD@??@?@???@??AB?@??...</td>\n",
       "    </tr>\n",
       "    <tr>\n",
       "      <th>134</th>\n",
       "      <td>1078</td>\n",
       "      <td>459.0</td>\n",
       "      <td>2020-02-19 00:16:03</td>\n",
       "      <td>55.765659</td>\n",
       "      <td>55.750431</td>\n",
       "      <td>49.220482</td>\n",
       "      <td>49.222672</td>\n",
       "      <td>3.0</td>\n",
       "      <td>3.0</td>\n",
       "      <td>2020-02-19 00:22:23</td>\n",
       "      <td>...</td>\n",
       "      <td>55.765792</td>\n",
       "      <td>49.220382</td>\n",
       "      <td>55.765761</td>\n",
       "      <td>49.220466</td>\n",
       "      <td>55.750334</td>\n",
       "      <td>49.222601</td>\n",
       "      <td>55.794388</td>\n",
       "      <td>49.111531</td>\n",
       "      <td>gwjsI_klkH?hA??rHFjE@r@ApCD`B???HcMGuCIc@mBsEG...</td>\n",
       "      <td>yjlkHawjsI@????????A@??????@A?A?@?H?F@B?B?@?DG...</td>\n",
       "    </tr>\n",
       "    <tr>\n",
       "      <th>135</th>\n",
       "      <td>1078</td>\n",
       "      <td>1113.0</td>\n",
       "      <td>2020-02-19 00:16:10</td>\n",
       "      <td>55.764648</td>\n",
       "      <td>55.767921</td>\n",
       "      <td>49.220638</td>\n",
       "      <td>49.155781</td>\n",
       "      <td>7.0</td>\n",
       "      <td>7.0</td>\n",
       "      <td>2020-02-19 00:18:27</td>\n",
       "      <td>...</td>\n",
       "      <td>55.764678</td>\n",
       "      <td>49.221080</td>\n",
       "      <td>55.764441</td>\n",
       "      <td>49.220811</td>\n",
       "      <td>55.767951</td>\n",
       "      <td>49.155738</td>\n",
       "      <td>55.794388</td>\n",
       "      <td>49.111531</td>\n",
       "      <td>cpjsIcnlkHeA@KW?a@??[???A}CCe@Mu@??m@cA[CKF@bA...</td>\n",
       "      <td>{llkHsnjsI????????????????????????????????F?J@...</td>\n",
       "    </tr>\n",
       "  </tbody>\n",
       "</table>\n",
       "<p>100 rows × 22 columns</p>\n",
       "</div>"
      ],
      "text/plain": [
       "     main_id_locality     ETA          OrderedDate   latitude  del_latitude  \\\n",
       "Id                                                                            \n",
       "0                1078   226.0  2020-02-12 19:12:06  55.826019     55.825581   \n",
       "2                1078   612.0  2020-02-12 19:12:44  55.791050     55.819962   \n",
       "7                1078  1229.0  2020-02-12 19:12:56  55.835281     55.751598   \n",
       "8                1078   541.0  2020-02-12 19:13:07  55.755779     55.772110   \n",
       "9                1078  1234.0  2020-02-12 19:13:09  55.818020     55.802101   \n",
       "..                ...     ...                  ...        ...           ...   \n",
       "131              1078   772.0  2020-02-19 00:13:14  55.832642     55.870789   \n",
       "132              1078   501.0  2020-02-19 00:13:31  55.743568     55.751530   \n",
       "133              1078   826.0  2020-02-19 00:15:42  55.860851     55.835560   \n",
       "134              1078   459.0  2020-02-19 00:16:03  55.765659     55.750431   \n",
       "135              1078  1113.0  2020-02-19 00:16:10  55.764648     55.767921   \n",
       "\n",
       "     longitude  del_longitude   EDA   RDA   ReadyForCollection  ...  \\\n",
       "Id                                                              ...   \n",
       "0    49.134529      49.126949   1.0   1.0  2020-02-12 19:14:33  ...   \n",
       "2    49.226070      49.176628   5.0   5.0  2020-02-12 19:15:21  ...   \n",
       "7    49.132278      49.180080  12.0  12.0  2020-02-12 19:18:25  ...   \n",
       "8    49.227730      49.228371   2.0   2.0  2020-02-12 19:17:20  ...   \n",
       "9    49.081909      49.200531  10.0  10.0  2020-02-12 19:20:14  ...   \n",
       "..         ...            ...   ...   ...                  ...  ...   \n",
       "131  49.090900      49.061810   6.0   6.0  2020-02-19 00:20:30  ...   \n",
       "132  49.203800      49.242031   4.0   4.0  2020-02-19 00:20:17  ...   \n",
       "133  49.098881      49.151958   7.0   6.0  2020-02-19 00:21:13  ...   \n",
       "134  49.220482      49.222672   3.0   3.0  2020-02-19 00:22:23  ...   \n",
       "135  49.220638      49.155781   7.0   7.0  2020-02-19 00:18:27  ...   \n",
       "\n",
       "    ready_latitude ready_longitude  onway_latitude  onway_longitude  \\\n",
       "Id                                                                    \n",
       "0        55.825647       49.134115       55.826261        49.134137   \n",
       "2        55.791099       49.226066       55.791099        49.226066   \n",
       "7        55.835314       49.131138       55.835239        49.131444   \n",
       "8        55.756178       49.228142       55.756235        49.227353   \n",
       "9        55.818455       49.081742       55.818193        49.081961   \n",
       "..             ...             ...             ...              ...   \n",
       "131      55.832750       49.090999       55.832740        49.091024   \n",
       "132      55.743595       49.203906       55.743595        49.203906   \n",
       "133      55.860649       49.099116       55.860618        49.099114   \n",
       "134      55.765792       49.220382       55.765761        49.220466   \n",
       "135      55.764678       49.221080       55.764441        49.220811   \n",
       "\n",
       "     arrived_latitude  arrived_longitude  center_latitude  center_longitude  \\\n",
       "Id                                                                            \n",
       "0           55.825707          49.127136        55.794388         49.111531   \n",
       "2           55.819765          49.177432        55.794388         49.111531   \n",
       "7           55.752243          49.180174        55.794388         49.111531   \n",
       "8           55.771960          49.229215        55.794388         49.111531   \n",
       "9           55.802402          49.200245        55.794388         49.111531   \n",
       "..                ...                ...              ...               ...   \n",
       "131         55.870680          49.061900        55.794388         49.111531   \n",
       "132         55.751563          49.241880        55.794388         49.111531   \n",
       "133         55.835102          49.152699        55.794388         49.111531   \n",
       "134         55.750334          49.222601        55.794388         49.111531   \n",
       "135         55.767951          49.155738        55.794388         49.111531   \n",
       "\n",
       "                                                 route  \\\n",
       "Id                                                       \n",
       "0    gnvsIaq{jHChA??uC???OPG^F^NRzKBd@AN[r@???`@`@`...   \n",
       "2    auosI}mmkH?LHd@KhC??o@w@[g@m@iAUk@??{G|OiB`Ek@...   \n",
       "7    qixsI_d{jHRIbCDj@C??Cc@?w@Es@??jJK|BF~@???Pi@L...   \n",
       "8    sxhsIixmkH?KWe@???gA??gIP??C_ISaH??qDEiC?aFMaE...   \n",
       "9    m~tsIwhqjHQ]??MXkAtA??cBwFyAwFuAoE??gEtFyCnD{E...   \n",
       "..                                                 ...   \n",
       "131  _ywsIu`sjHaKfEc@R??aA^wDfAuIvC}JzCkH`CsFnBYLcC...   \n",
       "132  ilfsIwbikHr@vB??mHrN]~@WlA??KYsCkGy@_BkFmLwEyK...   \n",
       "133  qi}sIettjH\\UhACp@P\\P??^}E`AqJTiAV_AFY??zA`B~Hn...   \n",
       "134  gwjsI_klkH?hA??rHFjE@r@ApCD`B???HcMGuCIc@mBsEG...   \n",
       "135  cpjsIcnlkHeA@KW?a@??[???A}CCe@Mu@??m@cA[CKF@bA...   \n",
       "\n",
       "                                                 track  \n",
       "Id                                                      \n",
       "0    io{jHkivsID_A??A}@i@m@I]^SFKBK@AD@@????A?@??A@...  \n",
       "2    }mmkHkuosI????????????????????????????????K?O@...  \n",
       "7    o~zjHkixsI?B?@?@?????????????C@C@?????CLIP?B?@...  \n",
       "8    etmkHiyhsI?A@M?S?Sk@SS@G@B?H@@BG????A????A???@...  \n",
       "9    ciqjHs~tsICACAKADENILIVOLMTMDGDIAG]MSGa@K[IOEY...  \n",
       "..                                                 ...  \n",
       "131  {asjHuywsI?@A???????????JGZ]b@m@X{@Rg@Pc@L]LYH...  \n",
       "132  kcikHmlfsI?@?????????????????????????@????????...  \n",
       "133  _ttjHak}sI]DMD?FHNFJ@N?N@HDD@??@?@???@??AB?@??...  \n",
       "134  yjlkHawjsI@????????A@??????@A?A?@?H?F@B?B?@?DG...  \n",
       "135  {llkHsnjsI????????????????????????????????F?J@...  \n",
       "\n",
       "[100 rows x 22 columns]"
      ]
     },
     "execution_count": 141,
     "metadata": {},
     "output_type": "execute_result"
    }
   ],
   "source": [
    "X_train.head(100)"
   ]
  },
  {
   "cell_type": "markdown",
   "metadata": {},
   "source": [
    "## CATBOOST!!!"
   ]
  },
  {
   "cell_type": "code",
   "execution_count": 142,
   "metadata": {
    "ExecuteTime": {
     "end_time": "2020-04-25T11:07:09.995580Z",
     "start_time": "2020-04-25T11:07:09.988936Z"
    }
   },
   "outputs": [],
   "source": [
    "from catboost import CatBoostRegressor, Pool"
   ]
  },
  {
   "cell_type": "code",
   "execution_count": 143,
   "metadata": {},
   "outputs": [],
   "source": [
    "def encode_weekday_hour_by_speed(train_data):\n",
    "    train_data['RSA'] = train_data['EDA']/train_data['RTA']\n",
    "    datetime_objects = [datetime.strptime(x, '%Y-%m-%d %H:%M:%S') for x in train_data['OrderedDate']]\n",
    "    train_data['OrderedWeekDay'] = [time.weekday() for time in datetime_objects]\n",
    "    train_data['OrderedHour'] = [time.hour for time in datetime_objects]\n",
    "    return train_data[['RSA', 'OrderedHour', 'OrderedWeekDay', \n",
    "                 'main_id_locality']].groupby(['OrderedHour', 'OrderedWeekDay', 'main_id_locality']).mean()"
   ]
  },
  {
   "cell_type": "code",
   "execution_count": 144,
   "metadata": {},
   "outputs": [],
   "source": [
    "weekday_hour_by_speed = encode_weekday_hour_by_speed(train.copy())"
   ]
  },
  {
   "cell_type": "code",
   "execution_count": 145,
   "metadata": {},
   "outputs": [
    {
     "data": {
      "text/html": [
       "<div>\n",
       "<style scoped>\n",
       "    .dataframe tbody tr th:only-of-type {\n",
       "        vertical-align: middle;\n",
       "    }\n",
       "\n",
       "    .dataframe tbody tr th {\n",
       "        vertical-align: top;\n",
       "    }\n",
       "\n",
       "    .dataframe thead th {\n",
       "        text-align: right;\n",
       "    }\n",
       "</style>\n",
       "<table border=\"1\" class=\"dataframe\">\n",
       "  <thead>\n",
       "    <tr style=\"text-align: right;\">\n",
       "      <th></th>\n",
       "      <th></th>\n",
       "      <th></th>\n",
       "      <th>RSA</th>\n",
       "    </tr>\n",
       "    <tr>\n",
       "      <th>OrderedHour</th>\n",
       "      <th>OrderedWeekDay</th>\n",
       "      <th>main_id_locality</th>\n",
       "      <th></th>\n",
       "    </tr>\n",
       "  </thead>\n",
       "  <tbody>\n",
       "    <tr>\n",
       "      <th rowspan=\"5\" valign=\"top\">0</th>\n",
       "      <th rowspan=\"4\" valign=\"top\">0</th>\n",
       "      <th>1078</th>\n",
       "      <td>0.009754</td>\n",
       "    </tr>\n",
       "    <tr>\n",
       "      <th>22390</th>\n",
       "      <td>0.008266</td>\n",
       "    </tr>\n",
       "    <tr>\n",
       "      <th>22430</th>\n",
       "      <td>0.008691</td>\n",
       "    </tr>\n",
       "    <tr>\n",
       "      <th>22438</th>\n",
       "      <td>0.008436</td>\n",
       "    </tr>\n",
       "    <tr>\n",
       "      <th>1</th>\n",
       "      <th>1078</th>\n",
       "      <td>0.009876</td>\n",
       "    </tr>\n",
       "  </tbody>\n",
       "</table>\n",
       "</div>"
      ],
      "text/plain": [
       "                                                  RSA\n",
       "OrderedHour OrderedWeekDay main_id_locality          \n",
       "0           0              1078              0.009754\n",
       "                           22390             0.008266\n",
       "                           22430             0.008691\n",
       "                           22438             0.008436\n",
       "            1              1078              0.009876"
      ]
     },
     "execution_count": 145,
     "metadata": {},
     "output_type": "execute_result"
    }
   ],
   "source": [
    "weekday_hour_by_speed.head()"
   ]
  },
  {
   "cell_type": "code",
   "execution_count": 146,
   "metadata": {},
   "outputs": [],
   "source": [
    "def distance(lat1, lon1, lat2, lon2):\n",
    "    lat1 = lat1.apply(radians)\n",
    "    lon1 = lon1.apply(radians)\n",
    "    lat2 = lat2.apply(radians)\n",
    "    lon2 = lon2.apply(radians)\n",
    "\n",
    "    dlon = lon2 - lon1\n",
    "    dlat = lat2 - lat1\n",
    "\n",
    "    a = dlat.apply(lambda x: sin(x / 2)**2) + \\\n",
    "        lat1.apply(cos) * lat2.apply(cos) * dlon.apply(lambda x: sin(x / 2)**2)\n",
    "    c = a.apply(lambda x: 2 * atan2(sqrt(x), sqrt(1 - x)))\n",
    "\n",
    "    distance = R * c\n",
    "    return distance"
   ]
  },
  {
   "cell_type": "code",
   "execution_count": 150,
   "metadata": {},
   "outputs": [],
   "source": [
    "def preprocess_data(data):\n",
    "    distance_to_center = distance(data['latitude'], data['longitude'],\n",
    "                                  data['center_latitude'], data['center_longitude'])\n",
    "    distance_del_to_center =  distance(data['del_latitude'], data['del_longitude'],\n",
    "                                  data['center_latitude'], data['center_longitude'])\n",
    "    \n",
    "    distance_bw_ready = distance(data['latitude'], data['longitude'],\n",
    "                                  data['ready_latitude'], data['ready_longitude'])\n",
    "    \n",
    "    distance_bw_arrived =  distance(data['del_latitude'], data['del_longitude'],\n",
    "                                  data['arrived_latitude'], data['arrived_longitude'])\n",
    "    \n",
    "    diff_start_rout = []\n",
    "    diff_end_rout = []\n",
    "    diff_start_track = []\n",
    "    diff_end_track = []\n",
    "\n",
    "    data['distance_to_center'] = distance_to_center\n",
    "    data['distance_del_to_center'] = distance_del_to_center\n",
    "    \n",
    "    data['distance_bw_ready'] = distance_bw_ready\n",
    "    data['distance_bw_arrived'] = distance_bw_arrived\n",
    "    \n",
    "    data['OrderedHour'] = pd.to_datetime(data['OrderedDate']).dt.hour\n",
    "    \n",
    "    datetime_objects = [datetime.strptime(x, '%Y-%m-%d %H:%M:%S') for x in data['OrderedDate']]\n",
    "    data['OrderedWeekDay'] = [time.weekday() for time in datetime_objects]\n",
    "    data['ESA'] = data['EDA']/data['ETA']\n",
    "    data = data.join(weekday_hour_by_speed, on=['OrderedHour', 'OrderedWeekDay', 'main_id_locality'])\n",
    "    \n",
    "    data = pd.get_dummies(data, columns=['OrderedHour', 'OrderedWeekDay'])\n",
    "    \n",
    "    days = pd.to_datetime(data['OrderedDate']).dt.day.values\n",
    "    monthes = pd.to_datetime(data['OrderedDate']).dt.month.values\n",
    "    mask1 = (monthes == 1) & np.in1d(days, [1, 2, 3, 4, 5, 6, 7, 8, 11, 12, 18, 19, 25, 26])\n",
    "    mask2 = (monthes == 2) & np.in1d(days, [1, 2, 8, 9, 15, 16, 22, 23, 24, 29])\n",
    "    mask3 = (monthes == 3) & np.in1d(days, [1, 7, 8, 9, 14, 15, 21, 22, 28, 29])\n",
    "    data['IsHoliday'] = mask1 | mask2 | mask3\n",
    "    \n",
    "    data = data.drop(columns=['OrderedDate'])\n",
    "    return data"
   ]
  },
  {
   "cell_type": "code",
   "execution_count": 151,
   "metadata": {
    "ExecuteTime": {
     "end_time": "2020-04-25T10:37:55.026694Z",
     "start_time": "2020-04-25T10:37:54.932767Z"
    }
   },
   "outputs": [],
   "source": [
    "data = X_train.copy()\n",
    "X_train = preprocess_data(data)"
   ]
  },
  {
   "cell_type": "code",
   "execution_count": 57,
   "metadata": {},
   "outputs": [],
   "source": [
    "data = X_val.copy()\n",
    "X_val = preprocess_data(data)"
   ]
  },
  {
   "cell_type": "code",
   "execution_count": 58,
   "metadata": {},
   "outputs": [],
   "source": [
    "data = X_test.copy()\n",
    "X_test = preprocess_data(data)"
   ]
  },
  {
   "cell_type": "code",
   "execution_count": 62,
   "metadata": {},
   "outputs": [
    {
     "data": {
      "text/plain": [
       "Index(['main_id_locality', 'ETA', 'latitude', 'del_latitude', 'longitude',\n",
       "       'del_longitude', 'EDA', 'center_latitude', 'center_longitude',\n",
       "       'distance_to_center', 'distance_del_to_center', 'ESA', 'RSA',\n",
       "       'OrderedHour_0', 'OrderedHour_1', 'OrderedHour_2', 'OrderedHour_3',\n",
       "       'OrderedHour_4', 'OrderedHour_5', 'OrderedHour_6', 'OrderedHour_7',\n",
       "       'OrderedHour_8', 'OrderedHour_9', 'OrderedHour_10', 'OrderedHour_11',\n",
       "       'OrderedHour_12', 'OrderedHour_13', 'OrderedHour_14', 'OrderedHour_15',\n",
       "       'OrderedHour_16', 'OrderedHour_17', 'OrderedHour_18', 'OrderedHour_19',\n",
       "       'OrderedHour_20', 'OrderedHour_21', 'OrderedHour_22', 'OrderedHour_23',\n",
       "       'OrderedWeekDay_0', 'OrderedWeekDay_1', 'OrderedWeekDay_2',\n",
       "       'OrderedWeekDay_3', 'OrderedWeekDay_4', 'OrderedWeekDay_5',\n",
       "       'OrderedWeekDay_6', 'IsHoliday'],\n",
       "      dtype='object')"
      ]
     },
     "execution_count": 62,
     "metadata": {},
     "output_type": "execute_result"
    }
   ],
   "source": [
    "X_train.columns"
   ]
  },
  {
   "cell_type": "code",
   "execution_count": 104,
   "metadata": {},
   "outputs": [
    {
     "data": {
      "text/plain": [
       "45"
      ]
     },
     "execution_count": 104,
     "metadata": {},
     "output_type": "execute_result"
    }
   ],
   "source": [
    "len(X_train.columns)"
   ]
  },
  {
   "cell_type": "code",
   "execution_count": 153,
   "metadata": {
    "ExecuteTime": {
     "end_time": "2020-04-25T11:33:09.292801Z",
     "start_time": "2020-04-25T11:33:09.285979Z"
    }
   },
   "outputs": [],
   "source": [
    "cat_features_index = np.append(np.array([0]), np.arange(15, len(X_train.columns)))"
   ]
  },
  {
   "cell_type": "code",
   "execution_count": 81,
   "metadata": {
    "ExecuteTime": {
     "end_time": "2020-04-25T11:33:27.037945Z",
     "start_time": "2020-04-25T11:33:26.046355Z"
    }
   },
   "outputs": [],
   "source": [
    "train_pool = Pool(pd.concat([X_train, X_val]), label=pd.concat([y_train, y_val]), cat_features=cat_features_index, \n",
    "                  feature_names=list(X_train.columns))"
   ]
  },
  {
   "cell_type": "code",
   "execution_count": 82,
   "metadata": {
    "ExecuteTime": {
     "end_time": "2020-04-25T11:36:00.281922Z",
     "start_time": "2020-04-25T11:33:34.197694Z"
    }
   },
   "outputs": [
    {
     "name": "stdout",
     "output_type": "stream",
     "text": [
      "0:\tlearn: 279.5730293\ttotal: 181ms\tremaining: 15m 4s\n",
      "100:\tlearn: 104.9123803\ttotal: 24.3s\tremaining: 19m 40s\n",
      "200:\tlearn: 99.3571924\ttotal: 47.8s\tremaining: 19m\n",
      "300:\tlearn: 98.0898205\ttotal: 1m 14s\tremaining: 19m 26s\n",
      "400:\tlearn: 97.3121278\ttotal: 1m 38s\tremaining: 18m 52s\n",
      "500:\tlearn: 96.6951010\ttotal: 2m 5s\tremaining: 18m 47s\n",
      "600:\tlearn: 96.1997164\ttotal: 2m 29s\tremaining: 18m 14s\n",
      "700:\tlearn: 95.7721730\ttotal: 2m 54s\tremaining: 17m 48s\n",
      "800:\tlearn: 95.4110653\ttotal: 3m 17s\tremaining: 17m 17s\n",
      "900:\tlearn: 95.0866431\ttotal: 3m 46s\tremaining: 17m 10s\n",
      "1000:\tlearn: 94.7992292\ttotal: 4m 13s\tremaining: 16m 53s\n",
      "1100:\tlearn: 94.5535670\ttotal: 4m 39s\tremaining: 16m 28s\n",
      "1200:\tlearn: 94.3191028\ttotal: 4m 59s\tremaining: 15m 48s\n",
      "1300:\tlearn: 94.1147207\ttotal: 5m 20s\tremaining: 15m 12s\n",
      "1400:\tlearn: 93.9291054\ttotal: 5m 44s\tremaining: 14m 45s\n",
      "1500:\tlearn: 93.7546117\ttotal: 6m 15s\tremaining: 14m 35s\n",
      "1600:\tlearn: 93.5902909\ttotal: 6m 40s\tremaining: 14m 9s\n",
      "1700:\tlearn: 93.4357707\ttotal: 7m 3s\tremaining: 13m 42s\n",
      "1800:\tlearn: 93.3014847\ttotal: 7m 26s\tremaining: 13m 12s\n",
      "1900:\tlearn: 93.1695296\ttotal: 7m 49s\tremaining: 12m 45s\n",
      "2000:\tlearn: 93.0423676\ttotal: 8m 17s\tremaining: 12m 25s\n",
      "2100:\tlearn: 92.9000596\ttotal: 8m 38s\tremaining: 11m 55s\n",
      "2200:\tlearn: 92.7836042\ttotal: 8m 59s\tremaining: 11m 25s\n",
      "2300:\tlearn: 92.6718544\ttotal: 9m 19s\tremaining: 10m 56s\n",
      "2400:\tlearn: 92.5660932\ttotal: 9m 40s\tremaining: 10m 27s\n",
      "2500:\tlearn: 92.4475344\ttotal: 10m\tremaining: 10m\n",
      "2600:\tlearn: 92.3498511\ttotal: 10m 21s\tremaining: 9m 33s\n",
      "2700:\tlearn: 92.2516966\ttotal: 10m 42s\tremaining: 9m 7s\n",
      "2800:\tlearn: 92.1554633\ttotal: 11m 3s\tremaining: 8m 40s\n",
      "2900:\tlearn: 92.0579561\ttotal: 11m 24s\tremaining: 8m 14s\n",
      "3000:\tlearn: 91.9693021\ttotal: 11m 44s\tremaining: 7m 49s\n",
      "3100:\tlearn: 91.8796158\ttotal: 12m 6s\tremaining: 7m 24s\n",
      "3200:\tlearn: 91.7951486\ttotal: 12m 27s\tremaining: 7m\n",
      "3300:\tlearn: 91.7120640\ttotal: 12m 48s\tremaining: 6m 35s\n",
      "3400:\tlearn: 91.6283497\ttotal: 13m 11s\tremaining: 6m 12s\n",
      "3500:\tlearn: 91.5482321\ttotal: 13m 33s\tremaining: 5m 48s\n",
      "3600:\tlearn: 91.4692819\ttotal: 13m 54s\tremaining: 5m 24s\n",
      "3700:\tlearn: 91.3960292\ttotal: 14m 15s\tremaining: 5m\n",
      "3800:\tlearn: 91.3212973\ttotal: 14m 36s\tremaining: 4m 36s\n",
      "3900:\tlearn: 91.2508915\ttotal: 14m 57s\tremaining: 4m 12s\n",
      "4000:\tlearn: 91.1842759\ttotal: 15m 18s\tremaining: 3m 49s\n",
      "4100:\tlearn: 91.1164314\ttotal: 15m 40s\tremaining: 3m 26s\n",
      "4200:\tlearn: 91.0557374\ttotal: 16m 2s\tremaining: 3m 3s\n",
      "4300:\tlearn: 90.9940826\ttotal: 16m 26s\tremaining: 2m 40s\n",
      "4400:\tlearn: 90.9357528\ttotal: 16m 53s\tremaining: 2m 17s\n",
      "4500:\tlearn: 90.8705613\ttotal: 17m 17s\tremaining: 1m 54s\n",
      "4600:\tlearn: 90.8081168\ttotal: 17m 42s\tremaining: 1m 32s\n",
      "4700:\tlearn: 90.7536059\ttotal: 18m 4s\tremaining: 1m 9s\n",
      "4800:\tlearn: 90.6994336\ttotal: 18m 29s\tremaining: 46s\n",
      "4900:\tlearn: 90.6511963\ttotal: 18m 52s\tremaining: 22.9s\n",
      "4999:\tlearn: 90.5980206\ttotal: 19m 19s\tremaining: 0us\n"
     ]
    },
    {
     "data": {
      "text/plain": [
       "<catboost.core.CatBoostRegressor at 0x7fa32f3c6b38>"
      ]
     },
     "execution_count": 82,
     "metadata": {},
     "output_type": "execute_result"
    }
   ],
   "source": [
    "model = CatBoostRegressor(loss_function='MAE', eval_metric='MAE', custom_metric='MAPE', iterations=2500,\n",
    "                          random_seed=0)\n",
    "\n",
    "model.fit(train_pool, metric_period=100)\n",
    "# y_pred = model.predict_proba(X_test)\n",
    "# roc_auc_score(y_test, y_pred[:, 1])"
   ]
  },
  {
   "cell_type": "code",
   "execution_count": 83,
   "metadata": {},
   "outputs": [
    {
     "data": {
      "text/plain": [
       "[(66.09356741408192, 'ETA'),\n",
       " (10.360093916637533, 'RSA'),\n",
       " (6.986679786002161, 'EDA'),\n",
       " (2.796346146243818, 'del_longitude'),\n",
       " (2.32504247452189, 'longitude'),\n",
       " (2.2028206725300152, 'del_latitude'),\n",
       " (2.1200707421853275, 'latitude'),\n",
       " (1.3023298276735091, 'distance_del_to_center'),\n",
       " (1.2658424059510076, 'distance_to_center'),\n",
       " (1.1166206613076735, 'ESA'),\n",
       " (0.5895319432331007, 'IsHoliday'),\n",
       " (0.5559520235879768, 'center_latitude'),\n",
       " (0.4022178007379855, 'center_longitude'),\n",
       " (0.30980031660810414, 'main_id_locality'),\n",
       " (0.295555135255524, 'OrderedHour_6'),\n",
       " (0.2838402303043711, 'OrderedHour_7'),\n",
       " (0.1943462501181951, 'OrderedHour_16'),\n",
       " (0.13416389108317198, 'OrderedWeekDay_0'),\n",
       " (0.1196247818992101, 'OrderedHour_15'),\n",
       " (0.09950259737686236, 'OrderedHour_5'),\n",
       " (0.08611285652550713, 'OrderedHour_18'),\n",
       " (0.07083657209027931, 'OrderedHour_17'),\n",
       " (0.050110261772668946, 'OrderedHour_8'),\n",
       " (0.04651864283899719, 'OrderedWeekDay_5'),\n",
       " (0.03773982970730755, 'OrderedHour_19'),\n",
       " (0.022633145150910465, 'OrderedHour_9'),\n",
       " (0.014320623841409886, 'OrderedHour_11'),\n",
       " (0.013031458539950415, 'OrderedWeekDay_4'),\n",
       " (0.012702521822165682, 'OrderedHour_10'),\n",
       " (0.011433842617863607, 'OrderedHour_14'),\n",
       " (0.011040961292941574, 'OrderedWeekDay_1'),\n",
       " (0.00803061033948307, 'OrderedHour_20'),\n",
       " (0.007929751637282415, 'OrderedHour_13'),\n",
       " (0.007916977373700132, 'OrderedHour_12'),\n",
       " (0.007602810943753005, 'OrderedHour_4'),\n",
       " (0.005448901862755947, 'OrderedWeekDay_2'),\n",
       " (0.005437084104800024, 'OrderedHour_0'),\n",
       " (0.004433594656194815, 'OrderedHour_22'),\n",
       " (0.004028341277414663, 'OrderedHour_1'),\n",
       " (0.004022392566057573, 'OrderedHour_23'),\n",
       " (0.0036797071441016208, 'OrderedWeekDay_3'),\n",
       " (0.003518697016120146, 'OrderedWeekDay_6'),\n",
       " (0.003493947243663941, 'OrderedHour_21'),\n",
       " (0.0034314496956419057, 'OrderedHour_2'),\n",
       " (0.0005960005996866845, 'OrderedHour_3')]"
      ]
     },
     "execution_count": 83,
     "metadata": {},
     "output_type": "execute_result"
    }
   ],
   "source": [
    "sorted(zip(model.feature_importances_, model.feature_names_), reverse=True)"
   ]
  },
  {
   "cell_type": "code",
   "execution_count": 84,
   "metadata": {
    "ExecuteTime": {
     "end_time": "2020-04-25T11:37:12.108175Z",
     "start_time": "2020-04-25T11:37:11.936190Z"
    }
   },
   "outputs": [],
   "source": [
    "y_pred = model.predict(X_val)"
   ]
  },
  {
   "cell_type": "code",
   "execution_count": 85,
   "metadata": {},
   "outputs": [
    {
     "name": "stdout",
     "output_type": "stream",
     "text": [
      "MAPE на валидации:  14.093760249732023\n"
     ]
    }
   ],
   "source": [
    "print(\"MAPE на валидации: \", mape(y_val, y_pred))"
   ]
  },
  {
   "cell_type": "code",
   "execution_count": 87,
   "metadata": {
    "ExecuteTime": {
     "end_time": "2020-04-25T12:04:21.815254Z",
     "start_time": "2020-04-25T12:04:21.656633Z"
    }
   },
   "outputs": [],
   "source": [
    "y_pred = model.predict(X_test)"
   ]
  },
  {
   "cell_type": "code",
   "execution_count": 88,
   "metadata": {
    "ExecuteTime": {
     "end_time": "2020-04-25T12:36:02.213815Z",
     "start_time": "2020-04-25T12:36:02.197964Z"
    }
   },
   "outputs": [],
   "source": [
    "submission0 = pd.DataFrame(np.array([np.arange(len(y_pred)), y_pred]).T, \n",
    "                           columns=['Id', 'Prediction'])\n",
    "submission0['Id'] = submission0['Id'].astype(int)\n",
    "submission0 = submission0.set_index('Id')"
   ]
  },
  {
   "cell_type": "code",
   "execution_count": 89,
   "metadata": {
    "ExecuteTime": {
     "end_time": "2020-04-25T12:36:04.906514Z",
     "start_time": "2020-04-25T12:36:04.738106Z"
    }
   },
   "outputs": [],
   "source": [
    "submission0.to_csv('submission0.csv')"
   ]
  },
  {
   "cell_type": "code",
   "execution_count": 90,
   "metadata": {
    "ExecuteTime": {
     "end_time": "2020-04-25T12:36:06.311822Z",
     "start_time": "2020-04-25T12:36:06.299165Z"
    }
   },
   "outputs": [
    {
     "data": {
      "text/html": [
       "<div>\n",
       "<style scoped>\n",
       "    .dataframe tbody tr th:only-of-type {\n",
       "        vertical-align: middle;\n",
       "    }\n",
       "\n",
       "    .dataframe tbody tr th {\n",
       "        vertical-align: top;\n",
       "    }\n",
       "\n",
       "    .dataframe thead th {\n",
       "        text-align: right;\n",
       "    }\n",
       "</style>\n",
       "<table border=\"1\" class=\"dataframe\">\n",
       "  <thead>\n",
       "    <tr style=\"text-align: right;\">\n",
       "      <th></th>\n",
       "      <th>Prediction</th>\n",
       "    </tr>\n",
       "    <tr>\n",
       "      <th>Id</th>\n",
       "      <th></th>\n",
       "    </tr>\n",
       "  </thead>\n",
       "  <tbody>\n",
       "    <tr>\n",
       "      <th>0</th>\n",
       "      <td>922.474119</td>\n",
       "    </tr>\n",
       "    <tr>\n",
       "      <th>1</th>\n",
       "      <td>720.275561</td>\n",
       "    </tr>\n",
       "    <tr>\n",
       "      <th>2</th>\n",
       "      <td>408.419962</td>\n",
       "    </tr>\n",
       "    <tr>\n",
       "      <th>3</th>\n",
       "      <td>749.561150</td>\n",
       "    </tr>\n",
       "    <tr>\n",
       "      <th>4</th>\n",
       "      <td>1268.369217</td>\n",
       "    </tr>\n",
       "    <tr>\n",
       "      <th>...</th>\n",
       "      <td>...</td>\n",
       "    </tr>\n",
       "    <tr>\n",
       "      <th>89933</th>\n",
       "      <td>317.587015</td>\n",
       "    </tr>\n",
       "    <tr>\n",
       "      <th>89934</th>\n",
       "      <td>269.367924</td>\n",
       "    </tr>\n",
       "    <tr>\n",
       "      <th>89935</th>\n",
       "      <td>1249.842768</td>\n",
       "    </tr>\n",
       "    <tr>\n",
       "      <th>89936</th>\n",
       "      <td>287.829065</td>\n",
       "    </tr>\n",
       "    <tr>\n",
       "      <th>89937</th>\n",
       "      <td>1519.777130</td>\n",
       "    </tr>\n",
       "  </tbody>\n",
       "</table>\n",
       "<p>89938 rows × 1 columns</p>\n",
       "</div>"
      ],
      "text/plain": [
       "        Prediction\n",
       "Id                \n",
       "0       922.474119\n",
       "1       720.275561\n",
       "2       408.419962\n",
       "3       749.561150\n",
       "4      1268.369217\n",
       "...            ...\n",
       "89933   317.587015\n",
       "89934   269.367924\n",
       "89935  1249.842768\n",
       "89936   287.829065\n",
       "89937  1519.777130\n",
       "\n",
       "[89938 rows x 1 columns]"
      ]
     },
     "execution_count": 90,
     "metadata": {},
     "output_type": "execute_result"
    }
   ],
   "source": [
    "submission0"
   ]
  },
  {
   "cell_type": "code",
   "execution_count": null,
   "metadata": {},
   "outputs": [],
   "source": []
  }
 ],
 "metadata": {
  "kernelspec": {
   "display_name": "stats",
   "language": "python",
   "name": "stats"
  },
  "language_info": {
   "codemirror_mode": {
    "name": "ipython",
    "version": 3
   },
   "file_extension": ".py",
   "mimetype": "text/x-python",
   "name": "python",
   "nbconvert_exporter": "python",
   "pygments_lexer": "ipython3",
   "version": "3.6.10"
  }
 },
 "nbformat": 4,
 "nbformat_minor": 2
}
